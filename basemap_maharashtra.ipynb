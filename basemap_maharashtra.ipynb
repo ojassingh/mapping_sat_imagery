{
 "cells": [
  {
   "cell_type": "code",
   "execution_count": 3,
   "metadata": {},
   "outputs": [
    {
     "name": "stdout",
     "output_type": "stream",
     "text": [
      "Requirement already satisfied: geopy in /opt/anaconda3/lib/python3.7/site-packages (2.0.0)\n",
      "Requirement already satisfied: geographiclib<2,>=1.49 in /opt/anaconda3/lib/python3.7/site-packages (from geopy) (1.50)\n",
      "Note: you may need to restart the kernel to use updated packages.\n"
     ]
    }
   ],
   "source": [
    "pip install geopy"
   ]
  },
  {
   "cell_type": "code",
   "execution_count": 29,
   "metadata": {
    "scrolled": false
   },
   "outputs": [
    {
     "name": "stdout",
     "output_type": "stream",
     "text": [
      "Nandurbar, Nandubar, Maharashtra, 425412, India\n",
      "(21.365998949999998, 74.28400358178766)\n"
     ]
    }
   ],
   "source": [
    "#Sample coordinate extraction\n",
    "from geopy.geocoders import Nominatim\n",
    "address='Nandurbar'\n",
    "geolocator = Nominatim(user_agent=\"-\")\n",
    "location = geolocator.geocode(address)\n",
    "print(location.address)\n",
    "print((location.latitude, location.longitude))"
   ]
  },
  {
   "cell_type": "code",
   "execution_count": 30,
   "metadata": {},
   "outputs": [
    {
     "data": {
      "text/html": [
       "<div>\n",
       "<style scoped>\n",
       "    .dataframe tbody tr th:only-of-type {\n",
       "        vertical-align: middle;\n",
       "    }\n",
       "\n",
       "    .dataframe tbody tr th {\n",
       "        vertical-align: top;\n",
       "    }\n",
       "\n",
       "    .dataframe thead th {\n",
       "        text-align: right;\n",
       "    }\n",
       "</style>\n",
       "<table border=\"1\" class=\"dataframe\">\n",
       "  <thead>\n",
       "    <tr style=\"text-align: right;\">\n",
       "      <th></th>\n",
       "      <th>District</th>\n",
       "      <th>LiteracyIndex</th>\n",
       "      <th>GERIndex</th>\n",
       "      <th>CombinedEducationIndex</th>\n",
       "      <th>ISRIndex</th>\n",
       "      <th>IncomeIndex</th>\n",
       "      <th>HDI</th>\n",
       "      <th>Unnamed: 7</th>\n",
       "      <th>Unnamed: 8</th>\n",
       "    </tr>\n",
       "  </thead>\n",
       "  <tbody>\n",
       "    <tr>\n",
       "      <th>0</th>\n",
       "      <td>Nandurbar</td>\n",
       "      <td>0.630</td>\n",
       "      <td>0.677</td>\n",
       "      <td>0.646</td>\n",
       "      <td>0.926</td>\n",
       "      <td>0.240</td>\n",
       "      <td>0.604</td>\n",
       "      <td>NaN</td>\n",
       "      <td>NaN</td>\n",
       "    </tr>\n",
       "    <tr>\n",
       "      <th>1</th>\n",
       "      <td>Gadchiroli</td>\n",
       "      <td>0.706</td>\n",
       "      <td>0.807</td>\n",
       "      <td>0.739</td>\n",
       "      <td>0.937</td>\n",
       "      <td>0.148</td>\n",
       "      <td>0.608</td>\n",
       "      <td>NaN</td>\n",
       "      <td>NaN</td>\n",
       "    </tr>\n",
       "    <tr>\n",
       "      <th>2</th>\n",
       "      <td>Washim</td>\n",
       "      <td>0.817</td>\n",
       "      <td>0.880</td>\n",
       "      <td>0.838</td>\n",
       "      <td>0.955</td>\n",
       "      <td>0.147</td>\n",
       "      <td>0.646</td>\n",
       "      <td>NaN</td>\n",
       "      <td>NaN</td>\n",
       "    </tr>\n",
       "    <tr>\n",
       "      <th>3</th>\n",
       "      <td>Hingoli</td>\n",
       "      <td>0.760</td>\n",
       "      <td>0.787</td>\n",
       "      <td>0.769</td>\n",
       "      <td>0.951</td>\n",
       "      <td>0.223</td>\n",
       "      <td>0.648</td>\n",
       "      <td>NaN</td>\n",
       "      <td>NaN</td>\n",
       "    </tr>\n",
       "    <tr>\n",
       "      <th>4</th>\n",
       "      <td>Osmanabad</td>\n",
       "      <td>0.763</td>\n",
       "      <td>0.819</td>\n",
       "      <td>0.782</td>\n",
       "      <td>0.950</td>\n",
       "      <td>0.214</td>\n",
       "      <td>0.649</td>\n",
       "      <td>NaN</td>\n",
       "      <td>NaN</td>\n",
       "    </tr>\n",
       "  </tbody>\n",
       "</table>\n",
       "</div>"
      ],
      "text/plain": [
       "     District  LiteracyIndex  GERIndex  CombinedEducationIndex  ISRIndex  \\\n",
       "0   Nandurbar          0.630     0.677                   0.646     0.926   \n",
       "1  Gadchiroli          0.706     0.807                   0.739     0.937   \n",
       "2      Washim          0.817     0.880                   0.838     0.955   \n",
       "3     Hingoli          0.760     0.787                   0.769     0.951   \n",
       "4   Osmanabad          0.763     0.819                   0.782     0.950   \n",
       "\n",
       "   IncomeIndex    HDI  Unnamed: 7  Unnamed: 8  \n",
       "0        0.240  0.604         NaN         NaN  \n",
       "1        0.148  0.608         NaN         NaN  \n",
       "2        0.147  0.646         NaN         NaN  \n",
       "3        0.223  0.648         NaN         NaN  \n",
       "4        0.214  0.649         NaN         NaN  "
      ]
     },
     "execution_count": 30,
     "metadata": {},
     "output_type": "execute_result"
    }
   ],
   "source": [
    "import pandas as pd\n",
    "df = pd.read_csv('HDI_Maharashtra_2011.csv')\n",
    "df.head()"
   ]
  },
  {
   "cell_type": "code",
   "execution_count": 31,
   "metadata": {},
   "outputs": [
    {
     "data": {
      "text/html": [
       "<div>\n",
       "<style scoped>\n",
       "    .dataframe tbody tr th:only-of-type {\n",
       "        vertical-align: middle;\n",
       "    }\n",
       "\n",
       "    .dataframe tbody tr th {\n",
       "        vertical-align: top;\n",
       "    }\n",
       "\n",
       "    .dataframe thead th {\n",
       "        text-align: right;\n",
       "    }\n",
       "</style>\n",
       "<table border=\"1\" class=\"dataframe\">\n",
       "  <thead>\n",
       "    <tr style=\"text-align: right;\">\n",
       "      <th></th>\n",
       "      <th>LiteracyIndex</th>\n",
       "      <th>GERIndex</th>\n",
       "      <th>CombinedEducationIndex</th>\n",
       "      <th>ISRIndex</th>\n",
       "      <th>IncomeIndex</th>\n",
       "      <th>HDI</th>\n",
       "      <th>Unnamed: 7</th>\n",
       "      <th>Unnamed: 8</th>\n",
       "    </tr>\n",
       "  </thead>\n",
       "  <tbody>\n",
       "    <tr>\n",
       "      <th>count</th>\n",
       "      <td>35.000000</td>\n",
       "      <td>35.000000</td>\n",
       "      <td>35.000000</td>\n",
       "      <td>35.000000</td>\n",
       "      <td>35.000000</td>\n",
       "      <td>35.000000</td>\n",
       "      <td>0.0</td>\n",
       "      <td>0.0</td>\n",
       "    </tr>\n",
       "    <tr>\n",
       "      <th>mean</th>\n",
       "      <td>0.810200</td>\n",
       "      <td>0.856429</td>\n",
       "      <td>0.825600</td>\n",
       "      <td>0.957343</td>\n",
       "      <td>0.357400</td>\n",
       "      <td>0.713486</td>\n",
       "      <td>NaN</td>\n",
       "      <td>NaN</td>\n",
       "    </tr>\n",
       "    <tr>\n",
       "      <th>std</th>\n",
       "      <td>0.058311</td>\n",
       "      <td>0.046444</td>\n",
       "      <td>0.049296</td>\n",
       "      <td>0.015119</td>\n",
       "      <td>0.122522</td>\n",
       "      <td>0.054485</td>\n",
       "      <td>NaN</td>\n",
       "      <td>NaN</td>\n",
       "    </tr>\n",
       "    <tr>\n",
       "      <th>min</th>\n",
       "      <td>0.630000</td>\n",
       "      <td>0.677000</td>\n",
       "      <td>0.646000</td>\n",
       "      <td>0.926000</td>\n",
       "      <td>0.147000</td>\n",
       "      <td>0.604000</td>\n",
       "      <td>NaN</td>\n",
       "      <td>NaN</td>\n",
       "    </tr>\n",
       "    <tr>\n",
       "      <th>25%</th>\n",
       "      <td>0.773000</td>\n",
       "      <td>0.837000</td>\n",
       "      <td>0.800500</td>\n",
       "      <td>0.950000</td>\n",
       "      <td>0.270000</td>\n",
       "      <td>0.674500</td>\n",
       "      <td>NaN</td>\n",
       "      <td>NaN</td>\n",
       "    </tr>\n",
       "    <tr>\n",
       "      <th>50%</th>\n",
       "      <td>0.817000</td>\n",
       "      <td>0.872000</td>\n",
       "      <td>0.837000</td>\n",
       "      <td>0.956000</td>\n",
       "      <td>0.355000</td>\n",
       "      <td>0.720000</td>\n",
       "      <td>NaN</td>\n",
       "      <td>NaN</td>\n",
       "    </tr>\n",
       "    <tr>\n",
       "      <th>75%</th>\n",
       "      <td>0.852500</td>\n",
       "      <td>0.883000</td>\n",
       "      <td>0.857500</td>\n",
       "      <td>0.967000</td>\n",
       "      <td>0.419000</td>\n",
       "      <td>0.744000</td>\n",
       "      <td>NaN</td>\n",
       "      <td>NaN</td>\n",
       "    </tr>\n",
       "    <tr>\n",
       "      <th>max</th>\n",
       "      <td>0.903000</td>\n",
       "      <td>0.926000</td>\n",
       "      <td>0.905000</td>\n",
       "      <td>0.988000</td>\n",
       "      <td>0.654000</td>\n",
       "      <td>0.841000</td>\n",
       "      <td>NaN</td>\n",
       "      <td>NaN</td>\n",
       "    </tr>\n",
       "  </tbody>\n",
       "</table>\n",
       "</div>"
      ],
      "text/plain": [
       "       LiteracyIndex   GERIndex  CombinedEducationIndex   ISRIndex  \\\n",
       "count      35.000000  35.000000               35.000000  35.000000   \n",
       "mean        0.810200   0.856429                0.825600   0.957343   \n",
       "std         0.058311   0.046444                0.049296   0.015119   \n",
       "min         0.630000   0.677000                0.646000   0.926000   \n",
       "25%         0.773000   0.837000                0.800500   0.950000   \n",
       "50%         0.817000   0.872000                0.837000   0.956000   \n",
       "75%         0.852500   0.883000                0.857500   0.967000   \n",
       "max         0.903000   0.926000                0.905000   0.988000   \n",
       "\n",
       "       IncomeIndex        HDI  Unnamed: 7  Unnamed: 8  \n",
       "count    35.000000  35.000000         0.0         0.0  \n",
       "mean      0.357400   0.713486         NaN         NaN  \n",
       "std       0.122522   0.054485         NaN         NaN  \n",
       "min       0.147000   0.604000         NaN         NaN  \n",
       "25%       0.270000   0.674500         NaN         NaN  \n",
       "50%       0.355000   0.720000         NaN         NaN  \n",
       "75%       0.419000   0.744000         NaN         NaN  \n",
       "max       0.654000   0.841000         NaN         NaN  "
      ]
     },
     "execution_count": 31,
     "metadata": {},
     "output_type": "execute_result"
    }
   ],
   "source": [
    "df.describe()"
   ]
  },
  {
   "cell_type": "code",
   "execution_count": 32,
   "metadata": {},
   "outputs": [],
   "source": [
    "district_group = df['District']"
   ]
  },
  {
   "cell_type": "code",
   "execution_count": 33,
   "metadata": {},
   "outputs": [
    {
     "name": "stdout",
     "output_type": "stream",
     "text": [
      "35\n"
     ]
    }
   ],
   "source": [
    "print(len(district_group))"
   ]
  },
  {
   "cell_type": "code",
   "execution_count": 34,
   "metadata": {},
   "outputs": [
    {
     "name": "stdout",
     "output_type": "stream",
     "text": [
      "(21.365998949999998, 74.28400358178766)\n",
      "(19.759070350000002, 80.16228072580182)\n",
      "(20.28792095, 77.23606281061035)\n",
      "(19.54140965, 77.17376601317515)\n",
      "(18.16984395, 76.11796321159572)\n",
      "(19.17257215, 77.29141237169956)\n",
      "(19.9182328, 75.8686246900443)\n",
      "(18.35146855, 76.7551212230513)\n",
      "(21.13050145, 74.47891180551228)\n",
      "(18.9904059, 75.7542291)\n",
      "(19.29031365, 76.60290343431203)\n",
      "(20.46134405, 76.09621899921487)\n",
      "(20.15, 78.35)\n",
      "(21.1456285, 80.26838674856234)\n",
      "(21.15454115, 77.64429617998744)\n",
      "(27.604285400000002, 84.64526207773613)\n",
      "(26.21231825, 91.89620684881584)\n",
      "(19.162772500000003, 74.85802430085195)\n",
      "(20.7618624, 77.19217162524623)\n",
      "(20.82562315, 78.61314549522919)\n",
      "(20.84351185, 75.52592658756026)\n",
      "(19.877263, 75.3390241)\n",
      "(17.84990665, 75.27632027348457)\n",
      "(17.282607900000002, 73.4569787039826)\n",
      "(17.63612885, 74.29827807601782)\n",
      "(16.8502534, 74.5948885)\n",
      "(20.0112475, 73.7902364)\n",
      "(16.135719299999998, 73.65220860183584)\n",
      "(22.5, 83.5)\n",
      "(16.7028412, 74.2405329)\n",
      "(21.1498134, 79.0820556)\n",
      "(19.1943294, 72.9701779)\n",
      "(18.521428, 73.8544541)\n",
      "(18.9387711, 72.8353355)\n",
      "(18.9068356, 75.6741579)\n"
     ]
    }
   ],
   "source": [
    "for district in district_group:\n",
    "    address= district\n",
    "    location = geolocator.geocode(address)\n",
    "    df['Latitude'] = location.latitude\n",
    "    df['Longitude'] = location.longitude\n",
    "    print((location.latitude, location.longitude))"
   ]
  },
  {
   "cell_type": "code",
   "execution_count": 35,
   "metadata": {},
   "outputs": [
    {
     "data": {
      "text/html": [
       "<div>\n",
       "<style scoped>\n",
       "    .dataframe tbody tr th:only-of-type {\n",
       "        vertical-align: middle;\n",
       "    }\n",
       "\n",
       "    .dataframe tbody tr th {\n",
       "        vertical-align: top;\n",
       "    }\n",
       "\n",
       "    .dataframe thead th {\n",
       "        text-align: right;\n",
       "    }\n",
       "</style>\n",
       "<table border=\"1\" class=\"dataframe\">\n",
       "  <thead>\n",
       "    <tr style=\"text-align: right;\">\n",
       "      <th></th>\n",
       "      <th>District</th>\n",
       "      <th>LiteracyIndex</th>\n",
       "      <th>GERIndex</th>\n",
       "      <th>CombinedEducationIndex</th>\n",
       "      <th>ISRIndex</th>\n",
       "      <th>IncomeIndex</th>\n",
       "      <th>HDI</th>\n",
       "      <th>Unnamed: 7</th>\n",
       "      <th>Unnamed: 8</th>\n",
       "      <th>Latitude</th>\n",
       "      <th>Longitude</th>\n",
       "    </tr>\n",
       "  </thead>\n",
       "  <tbody>\n",
       "    <tr>\n",
       "      <th>0</th>\n",
       "      <td>Nandurbar</td>\n",
       "      <td>0.630</td>\n",
       "      <td>0.677</td>\n",
       "      <td>0.646</td>\n",
       "      <td>0.926</td>\n",
       "      <td>0.240</td>\n",
       "      <td>0.604</td>\n",
       "      <td>NaN</td>\n",
       "      <td>NaN</td>\n",
       "      <td>18.906836</td>\n",
       "      <td>75.674158</td>\n",
       "    </tr>\n",
       "    <tr>\n",
       "      <th>1</th>\n",
       "      <td>Gadchiroli</td>\n",
       "      <td>0.706</td>\n",
       "      <td>0.807</td>\n",
       "      <td>0.739</td>\n",
       "      <td>0.937</td>\n",
       "      <td>0.148</td>\n",
       "      <td>0.608</td>\n",
       "      <td>NaN</td>\n",
       "      <td>NaN</td>\n",
       "      <td>18.906836</td>\n",
       "      <td>75.674158</td>\n",
       "    </tr>\n",
       "    <tr>\n",
       "      <th>2</th>\n",
       "      <td>Washim</td>\n",
       "      <td>0.817</td>\n",
       "      <td>0.880</td>\n",
       "      <td>0.838</td>\n",
       "      <td>0.955</td>\n",
       "      <td>0.147</td>\n",
       "      <td>0.646</td>\n",
       "      <td>NaN</td>\n",
       "      <td>NaN</td>\n",
       "      <td>18.906836</td>\n",
       "      <td>75.674158</td>\n",
       "    </tr>\n",
       "    <tr>\n",
       "      <th>3</th>\n",
       "      <td>Hingoli</td>\n",
       "      <td>0.760</td>\n",
       "      <td>0.787</td>\n",
       "      <td>0.769</td>\n",
       "      <td>0.951</td>\n",
       "      <td>0.223</td>\n",
       "      <td>0.648</td>\n",
       "      <td>NaN</td>\n",
       "      <td>NaN</td>\n",
       "      <td>18.906836</td>\n",
       "      <td>75.674158</td>\n",
       "    </tr>\n",
       "    <tr>\n",
       "      <th>4</th>\n",
       "      <td>Osmanabad</td>\n",
       "      <td>0.763</td>\n",
       "      <td>0.819</td>\n",
       "      <td>0.782</td>\n",
       "      <td>0.950</td>\n",
       "      <td>0.214</td>\n",
       "      <td>0.649</td>\n",
       "      <td>NaN</td>\n",
       "      <td>NaN</td>\n",
       "      <td>18.906836</td>\n",
       "      <td>75.674158</td>\n",
       "    </tr>\n",
       "  </tbody>\n",
       "</table>\n",
       "</div>"
      ],
      "text/plain": [
       "     District  LiteracyIndex  GERIndex  CombinedEducationIndex  ISRIndex  \\\n",
       "0   Nandurbar          0.630     0.677                   0.646     0.926   \n",
       "1  Gadchiroli          0.706     0.807                   0.739     0.937   \n",
       "2      Washim          0.817     0.880                   0.838     0.955   \n",
       "3     Hingoli          0.760     0.787                   0.769     0.951   \n",
       "4   Osmanabad          0.763     0.819                   0.782     0.950   \n",
       "\n",
       "   IncomeIndex    HDI  Unnamed: 7  Unnamed: 8   Latitude  Longitude  \n",
       "0        0.240  0.604         NaN         NaN  18.906836  75.674158  \n",
       "1        0.148  0.608         NaN         NaN  18.906836  75.674158  \n",
       "2        0.147  0.646         NaN         NaN  18.906836  75.674158  \n",
       "3        0.223  0.648         NaN         NaN  18.906836  75.674158  \n",
       "4        0.214  0.649         NaN         NaN  18.906836  75.674158  "
      ]
     },
     "execution_count": 35,
     "metadata": {},
     "output_type": "execute_result"
    }
   ],
   "source": [
    "df.head()"
   ]
  },
  {
   "cell_type": "code",
   "execution_count": 36,
   "metadata": {},
   "outputs": [
    {
     "data": {
      "text/html": [
       "<div>\n",
       "<style scoped>\n",
       "    .dataframe tbody tr th:only-of-type {\n",
       "        vertical-align: middle;\n",
       "    }\n",
       "\n",
       "    .dataframe tbody tr th {\n",
       "        vertical-align: top;\n",
       "    }\n",
       "\n",
       "    .dataframe thead th {\n",
       "        text-align: right;\n",
       "    }\n",
       "</style>\n",
       "<table border=\"1\" class=\"dataframe\">\n",
       "  <thead>\n",
       "    <tr style=\"text-align: right;\">\n",
       "      <th></th>\n",
       "      <th>District</th>\n",
       "      <th>HDI</th>\n",
       "      <th>Latitude</th>\n",
       "      <th>Longitude</th>\n",
       "    </tr>\n",
       "  </thead>\n",
       "  <tbody>\n",
       "    <tr>\n",
       "      <th>0</th>\n",
       "      <td>Nandurbar</td>\n",
       "      <td>0.604</td>\n",
       "      <td>18.906836</td>\n",
       "      <td>75.674158</td>\n",
       "    </tr>\n",
       "    <tr>\n",
       "      <th>1</th>\n",
       "      <td>Gadchiroli</td>\n",
       "      <td>0.608</td>\n",
       "      <td>18.906836</td>\n",
       "      <td>75.674158</td>\n",
       "    </tr>\n",
       "    <tr>\n",
       "      <th>2</th>\n",
       "      <td>Washim</td>\n",
       "      <td>0.646</td>\n",
       "      <td>18.906836</td>\n",
       "      <td>75.674158</td>\n",
       "    </tr>\n",
       "    <tr>\n",
       "      <th>3</th>\n",
       "      <td>Hingoli</td>\n",
       "      <td>0.648</td>\n",
       "      <td>18.906836</td>\n",
       "      <td>75.674158</td>\n",
       "    </tr>\n",
       "    <tr>\n",
       "      <th>4</th>\n",
       "      <td>Osmanabad</td>\n",
       "      <td>0.649</td>\n",
       "      <td>18.906836</td>\n",
       "      <td>75.674158</td>\n",
       "    </tr>\n",
       "  </tbody>\n",
       "</table>\n",
       "</div>"
      ],
      "text/plain": [
       "     District    HDI   Latitude  Longitude\n",
       "0   Nandurbar  0.604  18.906836  75.674158\n",
       "1  Gadchiroli  0.608  18.906836  75.674158\n",
       "2      Washim  0.646  18.906836  75.674158\n",
       "3     Hingoli  0.648  18.906836  75.674158\n",
       "4   Osmanabad  0.649  18.906836  75.674158"
      ]
     },
     "execution_count": 36,
     "metadata": {},
     "output_type": "execute_result"
    }
   ],
   "source": [
    "#Just extracting HDI for simplicity\n",
    "df = df[['District', 'HDI', 'Latitude', 'Longitude']]\n",
    "df.head()"
   ]
  },
  {
   "cell_type": "code",
   "execution_count": 37,
   "metadata": {},
   "outputs": [
    {
     "name": "stdout",
     "output_type": "stream",
     "text": [
      "Collecting package metadata (current_repodata.json): done\n",
      "Solving environment: done\n",
      "\n",
      "# All requested packages already installed.\n",
      "\n",
      "\n",
      "Note: you may need to restart the kernel to use updated packages.\n"
     ]
    }
   ],
   "source": [
    "conda install basemap"
   ]
  },
  {
   "cell_type": "code",
   "execution_count": 39,
   "metadata": {},
   "outputs": [],
   "source": [
    "from mpl_toolkits.basemap import Basemap"
   ]
  },
  {
   "cell_type": "code",
   "execution_count": 40,
   "metadata": {},
   "outputs": [
    {
     "name": "stderr",
     "output_type": "stream",
     "text": [
      "/opt/anaconda3/lib/python3.7/site-packages/ipykernel_launcher.py:4: MatplotlibDeprecationWarning: \n",
      "The dedent function was deprecated in Matplotlib 3.1 and will be removed in 3.3. Use inspect.cleandoc instead.\n",
      "  after removing the cwd from sys.path.\n",
      "/opt/anaconda3/lib/python3.7/site-packages/ipykernel_launcher.py:9: MatplotlibDeprecationWarning: \n",
      "The dedent function was deprecated in Matplotlib 3.1 and will be removed in 3.3. Use inspect.cleandoc instead.\n",
      "  if __name__ == '__main__':\n"
     ]
    },
    {
     "name": "stdout",
     "output_type": "stream",
     "text": [
      "DISCRICTS OF MAHARASHTRA\n"
     ]
    },
    {
     "data": {
      "image/png": "[encoded data removed]",
      "text/plain": [
       "<Figure size 432x288 with 1 Axes>"
      ]
     },
     "metadata": {},
     "output_type": "display_data"
    }
   ],
   "source": [
    "import matplotlib.pyplot as plt\n",
    "fig, ax = plt.subplots()\n",
    "#Got the bounding box values from: https://boundingbox.klokantech.com/ for MAHARASHTRA\n",
    "m = Basemap(projection='merc',lat_0=54.5, lon_0=-4.36,llcrnrlon=72.54, llcrnrlat= 15.6, urcrnrlon=80.89, urcrnrlat=22.03)\n",
    "m.drawmapboundary(fill_color='#46bcec')\n",
    "m.fillcontinents(color='#f2f2f2',lake_color='#46bcec')\n",
    "m.drawcoastlines()\n",
    "# Loading the shape file of India\n",
    "m.readshapefile(\"India_Districts_ADM2_GADM-shp/India_Districts_ADM2_GADM\",\"INDIA\")\n",
    "print('DISCRICTS OF MAHARASHTRA')"
   ]
  },
  {
   "cell_type": "code",
   "execution_count": 47,
   "metadata": {},
   "outputs": [
    {
     "ename": "TypeError",
     "evalue": "object of type 'bool' has no len()",
     "output_type": "error",
     "traceback": [
      "\u001b[0;31m---------------------------------------------------------------------------\u001b[0m",
      "\u001b[0;31mTypeError\u001b[0m                                 Traceback (most recent call last)",
      "\u001b[0;32m<ipython-input-47-89a6ce6615e8>\u001b[0m in \u001b[0;36m<module>\u001b[0;34m\u001b[0m\n\u001b[1;32m      1\u001b[0m \u001b[0;32mfrom\u001b[0m \u001b[0mshapely\u001b[0m\u001b[0;34m.\u001b[0m\u001b[0mgeometry\u001b[0m \u001b[0;32mimport\u001b[0m \u001b[0mPolygon\u001b[0m\u001b[0;34m\u001b[0m\u001b[0;34m\u001b[0m\u001b[0m\n\u001b[1;32m      2\u001b[0m df_poly = pd.DataFrame({\n\u001b[0;32m----> 3\u001b[0;31m         \u001b[0;34m'shapes'\u001b[0m\u001b[0;34m:\u001b[0m \u001b[0;34m[\u001b[0m\u001b[0mPolygon\u001b[0m\u001b[0;34m(\u001b[0m\u001b[0mnp\u001b[0m\u001b[0;34m.\u001b[0m\u001b[0marray\u001b[0m\u001b[0;34m(\u001b[0m\u001b[0mshape\u001b[0m\u001b[0;34m)\u001b[0m\u001b[0;34m,\u001b[0m \u001b[0;32mTrue\u001b[0m\u001b[0;34m)\u001b[0m \u001b[0;32mfor\u001b[0m \u001b[0mshape\u001b[0m \u001b[0;32min\u001b[0m \u001b[0mm\u001b[0m\u001b[0;34m.\u001b[0m\u001b[0mINDIA\u001b[0m\u001b[0;34m]\u001b[0m\u001b[0;34m,\u001b[0m\u001b[0;34m\u001b[0m\u001b[0;34m\u001b[0m\u001b[0m\n\u001b[0m\u001b[1;32m      4\u001b[0m         \u001b[0;31m#'area': [area['District'] for area in m.INDIA_info],\u001b[0m\u001b[0;34m\u001b[0m\u001b[0;34m\u001b[0m\u001b[0;34m\u001b[0m\u001b[0m\n\u001b[1;32m      5\u001b[0m     })\n",
      "\u001b[0;32m<ipython-input-47-89a6ce6615e8>\u001b[0m in \u001b[0;36m<listcomp>\u001b[0;34m(.0)\u001b[0m\n\u001b[1;32m      1\u001b[0m \u001b[0;32mfrom\u001b[0m \u001b[0mshapely\u001b[0m\u001b[0;34m.\u001b[0m\u001b[0mgeometry\u001b[0m \u001b[0;32mimport\u001b[0m \u001b[0mPolygon\u001b[0m\u001b[0;34m\u001b[0m\u001b[0;34m\u001b[0m\u001b[0m\n\u001b[1;32m      2\u001b[0m df_poly = pd.DataFrame({\n\u001b[0;32m----> 3\u001b[0;31m         \u001b[0;34m'shapes'\u001b[0m\u001b[0;34m:\u001b[0m \u001b[0;34m[\u001b[0m\u001b[0mPolygon\u001b[0m\u001b[0;34m(\u001b[0m\u001b[0mnp\u001b[0m\u001b[0;34m.\u001b[0m\u001b[0marray\u001b[0m\u001b[0;34m(\u001b[0m\u001b[0mshape\u001b[0m\u001b[0;34m)\u001b[0m\u001b[0;34m,\u001b[0m \u001b[0;32mTrue\u001b[0m\u001b[0;34m)\u001b[0m \u001b[0;32mfor\u001b[0m \u001b[0mshape\u001b[0m \u001b[0;32min\u001b[0m \u001b[0mm\u001b[0m\u001b[0;34m.\u001b[0m\u001b[0mINDIA\u001b[0m\u001b[0;34m]\u001b[0m\u001b[0;34m,\u001b[0m\u001b[0;34m\u001b[0m\u001b[0;34m\u001b[0m\u001b[0m\n\u001b[0m\u001b[1;32m      4\u001b[0m         \u001b[0;31m#'area': [area['District'] for area in m.INDIA_info],\u001b[0m\u001b[0;34m\u001b[0m\u001b[0;34m\u001b[0m\u001b[0;34m\u001b[0m\u001b[0m\n\u001b[1;32m      5\u001b[0m     })\n",
      "\u001b[0;32m/opt/anaconda3/lib/python3.7/site-packages/shapely/geometry/polygon.py\u001b[0m in \u001b[0;36m__init__\u001b[0;34m(self, shell, holes)\u001b[0m\n\u001b[1;32m    238\u001b[0m \u001b[0;34m\u001b[0m\u001b[0m\n\u001b[1;32m    239\u001b[0m         \u001b[0;32mif\u001b[0m \u001b[0mshell\u001b[0m \u001b[0;32mis\u001b[0m \u001b[0;32mnot\u001b[0m \u001b[0;32mNone\u001b[0m\u001b[0;34m:\u001b[0m\u001b[0;34m\u001b[0m\u001b[0;34m\u001b[0m\u001b[0m\n\u001b[0;32m--> 240\u001b[0;31m             \u001b[0mret\u001b[0m \u001b[0;34m=\u001b[0m \u001b[0mgeos_polygon_from_py\u001b[0m\u001b[0;34m(\u001b[0m\u001b[0mshell\u001b[0m\u001b[0;34m,\u001b[0m \u001b[0mholes\u001b[0m\u001b[0;34m)\u001b[0m\u001b[0;34m\u001b[0m\u001b[0;34m\u001b[0m\u001b[0m\n\u001b[0m\u001b[1;32m    241\u001b[0m             \u001b[0;32mif\u001b[0m \u001b[0mret\u001b[0m \u001b[0;32mis\u001b[0m \u001b[0;32mnot\u001b[0m \u001b[0;32mNone\u001b[0m\u001b[0;34m:\u001b[0m\u001b[0;34m\u001b[0m\u001b[0;34m\u001b[0m\u001b[0m\n\u001b[1;32m    242\u001b[0m                 \u001b[0mself\u001b[0m\u001b[0;34m.\u001b[0m\u001b[0m_geom\u001b[0m\u001b[0;34m,\u001b[0m \u001b[0mself\u001b[0m\u001b[0;34m.\u001b[0m\u001b[0m_ndim\u001b[0m \u001b[0;34m=\u001b[0m \u001b[0mret\u001b[0m\u001b[0;34m\u001b[0m\u001b[0;34m\u001b[0m\u001b[0m\n",
      "\u001b[0;32m/opt/anaconda3/lib/python3.7/site-packages/shapely/geometry/polygon.py\u001b[0m in \u001b[0;36mgeos_polygon_from_py\u001b[0;34m(shell, holes)\u001b[0m\n\u001b[1;32m    497\u001b[0m \u001b[0;34m\u001b[0m\u001b[0m\n\u001b[1;32m    498\u001b[0m         \u001b[0mgeos_shell\u001b[0m\u001b[0;34m,\u001b[0m \u001b[0mndim\u001b[0m \u001b[0;34m=\u001b[0m \u001b[0mret\u001b[0m\u001b[0;34m\u001b[0m\u001b[0;34m\u001b[0m\u001b[0m\n\u001b[0;32m--> 499\u001b[0;31m         \u001b[0;32mif\u001b[0m \u001b[0mholes\u001b[0m \u001b[0;32mis\u001b[0m \u001b[0;32mnot\u001b[0m \u001b[0;32mNone\u001b[0m \u001b[0;32mand\u001b[0m \u001b[0mlen\u001b[0m\u001b[0;34m(\u001b[0m\u001b[0mholes\u001b[0m\u001b[0;34m)\u001b[0m \u001b[0;34m>\u001b[0m \u001b[0;36m0\u001b[0m\u001b[0;34m:\u001b[0m\u001b[0;34m\u001b[0m\u001b[0;34m\u001b[0m\u001b[0m\n\u001b[0m\u001b[1;32m    500\u001b[0m             \u001b[0mob\u001b[0m \u001b[0;34m=\u001b[0m \u001b[0mholes\u001b[0m\u001b[0;34m\u001b[0m\u001b[0;34m\u001b[0m\u001b[0m\n\u001b[1;32m    501\u001b[0m             \u001b[0mL\u001b[0m \u001b[0;34m=\u001b[0m \u001b[0mlen\u001b[0m\u001b[0;34m(\u001b[0m\u001b[0mob\u001b[0m\u001b[0;34m)\u001b[0m\u001b[0;34m\u001b[0m\u001b[0;34m\u001b[0m\u001b[0m\n",
      "\u001b[0;31mTypeError\u001b[0m: object of type 'bool' has no len()"
     ]
    }
   ],
   "source": [
    "from shapely.geometry import Polygon\n",
    "df_poly = pd.DataFrame({r\n",
    "        'shapes': [Polygon(np.array(shape), True) for shape in m.INDIA],\n",
    "        #'area': [area['District'] for area in m.INDIA_info],\n",
    "    })"
   ]
  },
  {
   "cell_type": "code",
   "execution_count": null,
   "metadata": {},
   "outputs": [],
   "source": []
  }
 ],
 "metadata": {
  "kernelspec": {
   "display_name": "Python 3",
   "language": "python",
   "name": "python3"
  },
  "language_info": {
   "codemirror_mode": {
    "name": "ipython",
    "version": 3
   },
   "file_extension": ".py",
   "mimetype": "text/x-python",
   "name": "python",
   "nbconvert_exporter": "python",
   "pygments_lexer": "ipython3",
   "version": "3.7.6"
  },
  "varInspector": {
   "cols": {
    "lenName": 16,
    "lenType": 16,
    "lenVar": 40
   },
   "kernels_config": {
    "python": {
     "delete_cmd_postfix": "",
     "delete_cmd_prefix": "del ",
     "library": "var_list.py",
     "varRefreshCmd": "print(var_dic_list())"
    },
    "r": {
     "delete_cmd_postfix": ") ",
     "delete_cmd_prefix": "rm(",
     "library": "var_list.r",
     "varRefreshCmd": "cat(var_dic_list()) "
    }
   },
   "types_to_exclude": [
    "module",
    "function",
    "builtin_function_or_method",
    "instance",
    "_Feature"
   ],
   "window_display": false
  }
 },
 "nbformat": 4,
 "nbformat_minor": 4
}
